{
  "cells": [
    {
      "cell_type": "markdown",
      "metadata": {
        "id": "view-in-github",
        "colab_type": "text"
      },
      "source": [
        "<a href=\"https://colab.research.google.com/github/Talizg03/FInal-DS18/blob/main/project_26__5_25_modify1.ipynb\" target=\"_parent\"><img src=\"https://colab.research.google.com/assets/colab-badge.svg\" alt=\"Open In Colab\"/></a>"
      ]
    },
    {
      "cell_type": "code",
      "execution_count": null,
      "metadata": {
        "colab": {
          "base_uri": "https://localhost:8080/"
        },
        "id": "JmTcVjxgoQrH",
        "outputId": "bbefb0c8-7ada-4d45-dbe8-6aa7939c49ff"
      },
      "outputs": [
        {
          "name": "stdout",
          "output_type": "stream",
          "text": [
            "fatal: destination path 'kits23' already exists and is not an empty directory.\n",
            "Obtaining file:///content/kits23\n",
            "  Preparing metadata (setup.py) ... \u001b[?25l\u001b[?25hdone\n",
            "Collecting surface-distance@ git+https://github.com/deepmind/surface-distance.git (from kits23==0.1.4)\n",
            "  Cloning https://github.com/deepmind/surface-distance.git to /tmp/pip-install-pj96pjr7/surface-distance_fd83916672e94cd48a9643ff7ee23a43\n",
            "  Running command git clone --filter=blob:none --quiet https://github.com/deepmind/surface-distance.git /tmp/pip-install-pj96pjr7/surface-distance_fd83916672e94cd48a9643ff7ee23a43\n",
            "  Resolved https://github.com/deepmind/surface-distance.git to commit 1f805cea446805e559badc80dd27f34175e4173d\n",
            "  Preparing metadata (setup.py) ... \u001b[?25l\u001b[?25hdone\n",
            "Requirement already satisfied: numpy in /usr/local/lib/python3.11/dist-packages (from kits23==0.1.4) (2.0.2)\n",
            "Requirement already satisfied: scipy in /usr/local/lib/python3.11/dist-packages (from kits23==0.1.4) (1.15.3)\n",
            "Requirement already satisfied: scikit-image in /usr/local/lib/python3.11/dist-packages (from kits23==0.1.4) (0.25.2)\n",
            "Requirement already satisfied: opencv-python in /usr/local/lib/python3.11/dist-packages (from kits23==0.1.4) (4.11.0.86)\n",
            "Requirement already satisfied: nibabel in /usr/local/lib/python3.11/dist-packages (from kits23==0.1.4) (5.3.2)\n",
            "Requirement already satisfied: requests in /usr/local/lib/python3.11/dist-packages (from kits23==0.1.4) (2.32.3)\n",
            "Collecting argparse (from kits23==0.1.4)\n",
            "  Using cached argparse-1.4.0-py2.py3-none-any.whl.metadata (2.8 kB)\n",
            "Requirement already satisfied: tqdm in /usr/local/lib/python3.11/dist-packages (from kits23==0.1.4) (4.67.1)\n",
            "Requirement already satisfied: pytest in /usr/local/lib/python3.11/dist-packages (from kits23==0.1.4) (8.3.5)\n",
            "Requirement already satisfied: SimpleITK in /usr/local/lib/python3.11/dist-packages (from kits23==0.1.4) (2.5.0)\n",
            "Requirement already satisfied: batchgenerators in /usr/local/lib/python3.11/dist-packages (from kits23==0.1.4) (0.25.1)\n",
            "Requirement already satisfied: pillow>=7.1.2 in /usr/local/lib/python3.11/dist-packages (from batchgenerators->kits23==0.1.4) (11.2.1)\n",
            "Requirement already satisfied: scikit-learn in /usr/local/lib/python3.11/dist-packages (from batchgenerators->kits23==0.1.4) (1.6.1)\n",
            "Requirement already satisfied: future in /usr/local/lib/python3.11/dist-packages (from batchgenerators->kits23==0.1.4) (1.0.0)\n",
            "Requirement already satisfied: pandas in /usr/local/lib/python3.11/dist-packages (from batchgenerators->kits23==0.1.4) (2.2.2)\n",
            "Requirement already satisfied: unittest2 in /usr/local/lib/python3.11/dist-packages (from batchgenerators->kits23==0.1.4) (1.1.0)\n",
            "Requirement already satisfied: threadpoolctl in /usr/local/lib/python3.11/dist-packages (from batchgenerators->kits23==0.1.4) (3.6.0)\n",
            "Requirement already satisfied: importlib-resources>=5.12 in /usr/local/lib/python3.11/dist-packages (from nibabel->kits23==0.1.4) (6.5.2)\n",
            "Requirement already satisfied: packaging>=20 in /usr/local/lib/python3.11/dist-packages (from nibabel->kits23==0.1.4) (24.2)\n",
            "Requirement already satisfied: typing-extensions>=4.6 in /usr/local/lib/python3.11/dist-packages (from nibabel->kits23==0.1.4) (4.13.2)\n",
            "Requirement already satisfied: iniconfig in /usr/local/lib/python3.11/dist-packages (from pytest->kits23==0.1.4) (2.1.0)\n",
            "Requirement already satisfied: pluggy<2,>=1.5 in /usr/local/lib/python3.11/dist-packages (from pytest->kits23==0.1.4) (1.5.0)\n",
            "Requirement already satisfied: charset-normalizer<4,>=2 in /usr/local/lib/python3.11/dist-packages (from requests->kits23==0.1.4) (3.4.2)\n",
            "Requirement already satisfied: idna<4,>=2.5 in /usr/local/lib/python3.11/dist-packages (from requests->kits23==0.1.4) (3.10)\n",
            "Requirement already satisfied: urllib3<3,>=1.21.1 in /usr/local/lib/python3.11/dist-packages (from requests->kits23==0.1.4) (2.4.0)\n",
            "Requirement already satisfied: certifi>=2017.4.17 in /usr/local/lib/python3.11/dist-packages (from requests->kits23==0.1.4) (2025.4.26)\n",
            "Requirement already satisfied: networkx>=3.0 in /usr/local/lib/python3.11/dist-packages (from scikit-image->kits23==0.1.4) (3.4.2)\n",
            "Requirement already satisfied: imageio!=2.35.0,>=2.33 in /usr/local/lib/python3.11/dist-packages (from scikit-image->kits23==0.1.4) (2.37.0)\n",
            "Requirement already satisfied: tifffile>=2022.8.12 in /usr/local/lib/python3.11/dist-packages (from scikit-image->kits23==0.1.4) (2025.5.10)\n",
            "Requirement already satisfied: lazy-loader>=0.4 in /usr/local/lib/python3.11/dist-packages (from scikit-image->kits23==0.1.4) (0.4)\n",
            "Requirement already satisfied: absl-py in /usr/local/lib/python3.11/dist-packages (from surface-distance@ git+https://github.com/deepmind/surface-distance.git->kits23==0.1.4) (1.4.0)\n",
            "Requirement already satisfied: python-dateutil>=2.8.2 in /usr/local/lib/python3.11/dist-packages (from pandas->batchgenerators->kits23==0.1.4) (2.9.0.post0)\n",
            "Requirement already satisfied: pytz>=2020.1 in /usr/local/lib/python3.11/dist-packages (from pandas->batchgenerators->kits23==0.1.4) (2025.2)\n",
            "Requirement already satisfied: tzdata>=2022.7 in /usr/local/lib/python3.11/dist-packages (from pandas->batchgenerators->kits23==0.1.4) (2025.2)\n",
            "Requirement already satisfied: joblib>=1.2.0 in /usr/local/lib/python3.11/dist-packages (from scikit-learn->batchgenerators->kits23==0.1.4) (1.5.0)\n",
            "Requirement already satisfied: six>=1.4 in /usr/local/lib/python3.11/dist-packages (from unittest2->batchgenerators->kits23==0.1.4) (1.17.0)\n",
            "Requirement already satisfied: traceback2 in /usr/local/lib/python3.11/dist-packages (from unittest2->batchgenerators->kits23==0.1.4) (1.4.0)\n",
            "Requirement already satisfied: linecache2 in /usr/local/lib/python3.11/dist-packages (from traceback2->unittest2->batchgenerators->kits23==0.1.4) (1.0.0)\n",
            "Using cached argparse-1.4.0-py2.py3-none-any.whl (23 kB)\n",
            "Installing collected packages: argparse, kits23\n",
            "  Attempting uninstall: kits23\n",
            "    Found existing installation: kits23 0.1.4\n",
            "    Uninstalling kits23-0.1.4:\n",
            "      Successfully uninstalled kits23-0.1.4\n",
            "  Running setup.py develop for kits23\n",
            "Successfully installed argparse-1.4.0 kits23-0.1.4\n"
          ]
        }
      ],
      "source": [
        "!git clone https://github.com/neheller/kits23\n",
        "!cd kits23 && pip install -e .\n"
      ]
    },
    {
      "cell_type": "code",
      "execution_count": null,
      "metadata": {
        "colab": {
          "base_uri": "https://localhost:8080/"
        },
        "id": "NhRByEhQpeTd",
        "outputId": "006a869c-51c6-456a-97ee-d8fd3627f3bc"
      },
      "outputs": [
        {
          "name": "stdout",
          "output_type": "stream",
          "text": [
            "\n",
            "Found 489 cases to download\n",
            "\n",
            "Dowloading case_00588...: 100% 489/489 [26:20<00:00,  3.23s/it]\n"
          ]
        }
      ],
      "source": [
        "!kits23_download_data\n"
      ]
    },
    {
      "cell_type": "code",
      "execution_count": null,
      "metadata": {
        "colab": {
          "base_uri": "https://localhost:8080/"
        },
        "id": "_nwBPC1pxa3H",
        "outputId": "2fdffcf2-6046-42fd-a51f-a4e2937bf0c7"
      },
      "outputs": [
        {
          "name": "stdout",
          "output_type": "stream",
          "text": [
            "Root: ['.config', 'kits23', 'sample_data']\n",
            "kits23/: ['kits23', '.pylintrc', 'tests', 'changelog.md', 'kits23.egg-info', 'setup.py', '.gitignore', '.git', 'LICENSE', 'pull_request_template.md', 'README.md', 'dataset']\n",
            "kits23/dataset/: ['case_00091', 'case_00410', 'case_00434', 'case_00078', 'case_00587', 'case_00504', 'case_00233', 'case_00137', 'case_00219', 'case_00559', 'case_00256', 'case_00257', 'case_00292', 'case_00283', 'case_00199', 'case_00003', 'case_00564', 'case_00405', 'case_00401', 'case_00493', 'case_00520', 'case_00443', 'case_00185', 'case_00086', 'case_00243', 'case_00471', 'case_00228', 'case_00423', 'case_00445', 'case_00053', 'case_00216', 'case_00505', 'case_00262', 'case_00575', 'case_00056', 'case_00431', 'case_00586', 'case_00267', 'case_00561', 'case_00574', 'case_00501', 'case_00295', 'case_00059', 'case_00175', 'case_00403', 'case_00014', 'case_00260', 'case_00169', 'case_00120', 'case_00167', 'case_00163', 'case_00293', 'case_00400', 'case_00430', 'case_00170', 'case_00165', 'case_00145', 'case_00552', 'case_00465', 'case_00529', 'case_00021', 'case_00414', 'case_00130', 'case_00005', 'case_00082', 'case_00413', 'case_00428', 'case_00459', 'case_00551', 'case_00017', 'case_00241', 'case_00179', 'case_00098', 'case_00087', 'case_00519', 'case_00296', 'case_00427', 'case_00002', 'case_00025', 'case_00116', 'case_00251', 'case_00421', 'case_00487', 'case_00060', 'case_00202', 'case_00448', 'case_00222', 'case_00183', 'case_00287', 'case_00570', 'case_00509', 'case_00278', 'case_00041', 'case_00263', 'case_00191', 'case_00210', 'case_00291', 'case_00015', 'case_00155', 'case_00543', 'case_00451', 'case_00152', 'case_00166', 'case_00097', 'case_00083', 'case_00475', 'case_00417', 'case_00224', 'case_00131', 'case_00204', 'case_00181', 'case_00022', 'kits23.json', 'case_00240', 'case_00159', 'case_00225', 'case_00540', 'case_00076', 'case_00236', 'case_00182', 'case_00563', 'case_00220', 'case_00125', 'case_00067', 'case_00478', 'case_00074', 'case_00534', 'case_00223', 'case_00081', 'case_00198', 'case_00029', 'case_00096', 'case_00237', 'case_00142', 'case_00112', 'case_00034', 'case_00268', 'case_00567', 'case_00050', 'case_00128', 'case_00530', 'case_00542', 'case_00461', 'case_00508', 'case_00042', 'case_00571', 'case_00513', 'case_00470', 'case_00516', 'case_00264', 'case_00100', 'case_00489', 'case_00446', 'case_00193', 'case_00007', 'case_00026', 'case_00101', 'case_00009', 'case_00173', 'case_00488', 'case_00031', 'case_00454', 'case_00046', 'case_00259', 'case_00234', 'case_00040', 'case_00001', 'case_00077', 'case_00150', 'case_00499', 'case_00406', 'case_00138', 'case_00018', 'case_00084', 'case_00230', 'case_00255', 'case_00441', 'case_00474', 'case_00568', 'case_00503', 'case_00557', 'case_00221', 'case_00469', 'case_00037', 'case_00071', 'case_00424', 'case_00402', 'case_00280', 'case_00207', 'case_00070', 'case_00115', 'case_00148', 'case_00272', 'case_00249', 'case_00284', 'case_00556', 'case_00498', 'case_00490', 'case_00289', 'case_00253', 'case_00079', 'case_00147', 'case_00409', 'case_00536', 'case_00231', 'case_00146', 'case_00250', 'case_00578', 'case_00510', 'case_00177', 'case_00526', 'case_00205', 'case_00480', 'case_00515', 'case_00047', 'case_00227', 'case_00192', 'case_00426', 'case_00051', 'case_00062', 'case_00072', 'case_00569', 'case_00190', 'case_00114', 'case_00549', 'case_00069', 'case_00577', 'case_00080', 'case_00158', 'case_00066', 'case_00235', 'case_00099', 'case_00456', 'case_00548', 'case_00407', 'case_00585', 'case_00195', 'case_00122', 'case_00140', 'case_00538', 'case_00024', 'case_00545', 'case_00429', 'case_00467', 'case_00151', 'case_00200', 'case_00111', 'case_00004', 'case_00555', 'case_00061', 'case_00517', 'case_00143', 'case_00213', 'case_00136', 'case_00466', 'case_00439', 'case_00419', 'case_00093', 'case_00425', 'case_00458', 'case_00290', 'case_00075', 'case_00027', 'case_00197', 'case_00108', 'case_00462', 'case_00477', 'case_00187', 'case_00229', 'case_00507', 'case_00544', 'case_00064', 'case_00154', 'case_00030', 'case_00121', 'case_00048', 'case_00281', 'case_00258', 'case_00422', 'case_00184', 'case_00558', 'case_00457', 'case_00019', 'case_00554', 'case_00141', 'case_00481', 'case_00484', 'case_00124', 'case_00491', 'case_00090', 'case_00583', 'case_00012', 'case_00058', 'case_00444', 'case_00085', 'case_00265', 'case_00149', 'case_00162', 'case_00215', 'case_00485', 'case_00049', 'case_00103', 'case_00008', 'case_00160', 'case_00581', 'case_00546', 'case_00212', 'case_00483', 'case_00226', 'case_00473', 'case_00094', 'case_00217', 'case_00254', 'case_00277', 'case_00479', 'case_00000', 'case_00065', 'case_00117', 'case_00232', 'case_00276', 'case_00104', 'case_00453', 'case_00492', 'case_00449', 'case_00127', 'case_00196', 'case_00168', 'case_00525', 'case_00415', 'case_00252', 'case_00450', 'case_00107', 'case_00247', 'case_00261', 'case_00416', 'case_00506', 'case_00539', 'case_00286', 'case_00106', 'case_00206', 'case_00238', 'case_00440', 'case_00248', 'case_00239', 'case_00584', 'case_00482', 'case_00194', 'case_00073', 'case_00123', 'case_00044', 'case_00174', 'case_00282', 'case_00172', 'case_00521', 'case_00214', 'case_00211', 'case_00553', 'case_00566', 'case_00496', 'case_00126', 'case_00511', 'case_00180', 'case_00418', 'case_00579', 'case_00102', 'case_00533', 'case_00442', 'case_00497', 'case_00129', 'case_00270', 'case_00035', 'case_00472', 'case_00565', 'case_00164', 'case_00576', 'case_00245', 'case_00455', 'case_00436', 'case_00560', 'case_00266', 'case_00045', 'case_00495', 'case_00189', 'case_00052', 'case_00468', 'case_00269', 'case_00036', 'case_00033', 'case_00294', 'case_00432', 'case_00420', 'case_00537', 'case_00531', 'case_00244', 'case_00242', 'case_00088', 'case_00573', 'case_00068', 'case_00408', 'case_00572', 'case_00055', 'case_00452', 'case_00246', 'case_00006', 'case_00139', 'case_00203', 'case_00132', 'case_00523', 'case_00494', 'case_00188', 'case_00274', 'case_00562', 'case_00275', 'case_00153', 'case_00460', 'case_00299', 'case_00113', 'case_00178', 'case_00535', 'case_00288', 'case_00023', 'case_00528', 'case_00118', 'case_00532', 'case_00057', 'case_00271', 'case_00518', 'case_00218', 'case_00514', 'case_00119', 'case_00476', 'case_00110', 'case_00095', 'case_00013', 'case_00297', 'case_00208', 'case_00541', 'case_00144', 'case_00063', 'case_00157', 'case_00298', 'case_00161', 'case_00201', 'case_00279', 'case_00028', 'case_00038', 'case_00135', 'case_00105', 'case_00547', 'case_00011', 'case_00502', 'case_00176', 'case_00032', 'case_00020', 'case_00512', 'case_00109', 'case_00411', 'case_00404', 'case_00486', 'case_00524', 'case_00043', 'case_00447', 'case_00039', 'case_00010', 'case_00412', 'case_00463', 'case_00092', 'case_00435', 'case_00550', 'case_00156', 'case_00438', 'case_00433', 'case_00285', 'case_00171', 'case_00580', 'case_00522', 'case_00209', 'case_00437', 'case_00054', 'case_00089', 'case_00527', 'case_00186', 'case_00134', 'case_00016', 'case_00500', 'case_00273', 'case_00582', 'case_00588', 'case_00133', 'case_00464']\n"
          ]
        }
      ],
      "source": [
        "import os\n",
        "\n",
        "# List top-level items\n",
        "print(\"Root:\", os.listdir())\n",
        "\n",
        "# List contents of kits23 directory\n",
        "if \"kits23\" in os.listdir():\n",
        "    print(\"kits23/:\", os.listdir(\"kits23\"))\n",
        "\n",
        "# List contents of dataset\n",
        "if os.path.exists(\"kits23/dataset\"):\n",
        "    print(\"kits23/dataset/:\", os.listdir(\"kits23/dataset\"))\n",
        "else:\n",
        "    print(\"⚠️ 'kits23/dataset/' not found.\")\n"
      ]
    },
    {
      "cell_type": "code",
      "execution_count": null,
      "metadata": {
        "id": "5WBjCHxrgP7S"
      },
      "outputs": [],
      "source": [
        "def save_slices(case_folder, output_dir):\n",
        "    import os\n",
        "    import io\n",
        "    import numpy as np\n",
        "    import nibabel as nib\n",
        "    from PIL import Image\n",
        "\n",
        "    imaging_path = os.path.join(case_folder, \"imaging.nii.gz\")\n",
        "    seg_path = os.path.join(case_folder, \"segmentation.nii.gz\")\n",
        "\n",
        "    img = nib.load(imaging_path).get_fdata()\n",
        "    seg = nib.load(seg_path).get_fdata()\n",
        "\n",
        "    for i in range(img.shape[2]):\n",
        "        slice_img = img[:, :, i]\n",
        "        slice_seg = seg[:, :, i]\n",
        "\n",
        "        # אם יש תווית 1 בפרוסה — שייך ל\"normal\", אחרת \"abnormal\"\n",
        "        label = \"normal\" if np.any(slice_seg == 1) else \"abnormal\"\n",
        "\n",
        "        # נרמול לפורמט 0-255\n",
        "        slice_norm = 255 * (slice_img - np.min(slice_img)) / (np.ptp(slice_img) + 1e-5)\n",
        "        slice_norm = slice_norm.astype(np.uint8)\n",
        "\n",
        "        try:\n",
        "            img_pil = Image.fromarray(slice_norm)\n",
        "\n",
        "            # שמירה בזיכרון לבדיקה\n",
        "            buf = io.BytesIO()\n",
        "            img_pil.save(buf, format=\"PNG\")\n",
        "            buf.seek(0)\n",
        "            test_img = Image.open(buf)\n",
        "            test_img.verify()\n",
        "\n",
        "            # רק אם תקין - לשמור לדיסק\n",
        "            filename = f\"{os.path.basename(case_folder)}_slice_{i:03d}.png\"\n",
        "            filepath = os.path.join(output_dir, label, filename)\n",
        "            img_pil.save(filepath)\n",
        "\n",
        "        except Exception as e:\n",
        "            print(f\"❌ Error saving slice {i} from {case_folder}: {e}\")\n"
      ]
    },
    {
      "cell_type": "code",
      "execution_count": null,
      "metadata": {
        "id": "nKfSZyYBFDtD"
      },
      "outputs": [],
      "source": [
        "import os\n",
        "import numpy as np\n",
        "import nibabel as nib  # ← זה החלק שהיה חסר\n",
        "from PIL import Image\n",
        "from tqdm import tqdm\n"
      ]
    },
    {
      "cell_type": "markdown",
      "metadata": {
        "id": "uwZD3799Hjjs"
      },
      "source": [
        "# 2. הגדרת הנתיבים:"
      ]
    },
    {
      "cell_type": "code",
      "execution_count": null,
      "metadata": {
        "id": "VP8z88fGHiBg"
      },
      "outputs": [],
      "source": [
        "DATASET_DIR = 'kits23/dataset'  # הנתיב לתיקיית הדאטה\n",
        "OUTPUT_DIR = 'slices_output'\n",
        "\n",
        "os.makedirs(os.path.join(OUTPUT_DIR, \"normal\"), exist_ok=True)\n",
        "os.makedirs(os.path.join(OUTPUT_DIR, \"abnormal\"), exist_ok=True)\n"
      ]
    },
    {
      "cell_type": "markdown",
      "metadata": {
        "id": "cqK--A1-G0MA"
      },
      "source": [
        "# 3. הגדרת פונקציית save_slices:\n",
        "\n"
      ]
    },
    {
      "cell_type": "code",
      "execution_count": null,
      "metadata": {
        "id": "jmXHDe3VGuzn"
      },
      "outputs": [],
      "source": [
        "def save_slices(case_folder, output_dir):\n",
        "    imaging_path = os.path.join(case_folder, \"imaging.nii.gz\")\n",
        "    seg_path = os.path.join(case_folder, \"segmentation.nii.gz\")\n",
        "    img = nib.load(imaging_path).get_fdata()\n",
        "    seg = nib.load(seg_path).get_fdata()\n",
        "\n",
        "    for i in range(img.shape[2]):\n",
        "        slice_img = img[:, :, i]\n",
        "        slice_seg = seg[:, :, i]\n",
        "\n",
        "        # תווית: אם יש 1 => נורמל, אחרת לא נורמל\n",
        "        label = \"normal\" if np.any(slice_seg == 1) else \"abnormal\"\n",
        "\n",
        "        # נרמול התמונה\n",
        "        slice_norm = 255 * (slice_img - np.min(slice_img)) / (np.ptp(slice_img) + 1e-5)\n",
        "        slice_norm = slice_norm.astype(np.uint8)\n",
        "\n",
        "        try:\n",
        "            img_pil = Image.fromarray(slice_norm)\n",
        "\n",
        "            # בדיקת תקינות של התמונה\n",
        "            buf = io.BytesIO()\n",
        "            img_pil.save(buf, format=\"PNG\")\n",
        "            buf.seek(0)\n",
        "            test_img = Image.open(buf)\n",
        "            test_img.verify()\n",
        "\n",
        "            # שמירה לתיקייה המתאימה\n",
        "            filename = f\"{os.path.basename(case_folder)}_slice_{i:03d}.png\"\n",
        "            filepath = os.path.join(output_dir, label, filename)\n",
        "            img_pil.save(filepath)\n",
        "\n",
        "        except Exception as e:\n",
        "            print(f\"❌ Error saving slice {i} from {case_folder}: {e}\")\n"
      ]
    },
    {
      "cell_type": "markdown",
      "metadata": {
        "id": "wnbywd4dG35B"
      },
      "source": [
        "#4. סריקת הקייסים והפקת הפרוסות"
      ]
    },
    {
      "cell_type": "code",
      "execution_count": null,
      "metadata": {
        "colab": {
          "base_uri": "https://localhost:8080/"
        },
        "id": "VJlXwXuRG8Gx",
        "outputId": "5219b8fe-e286-456d-fa90-6f4dfdf4bac4"
      },
      "outputs": [
        {
          "name": "stdout",
          "output_type": "stream",
          "text": [
            "Saving slices into normal / abnormal folders...\n"
          ]
        },
        {
          "name": "stderr",
          "output_type": "stream",
          "text": [
            "100%|██████████| 489/489 [3:13:08<00:00, 23.70s/it]"
          ]
        },
        {
          "name": "stdout",
          "output_type": "stream",
          "text": [
            "✅ Done saving slices.\n"
          ]
        },
        {
          "name": "stderr",
          "output_type": "stream",
          "text": [
            "\n"
          ]
        }
      ],
      "source": [
        "import os\n",
        "from tqdm import tqdm\n",
        "import io  # ✅ Ensure this is included if you're using io.BytesIO() etc.\n",
        "\n",
        "cases = sorted([\n",
        "    os.path.join(DATASET_DIR, c)\n",
        "    for c in os.listdir(DATASET_DIR)\n",
        "    if c.startswith(\"case_\")\n",
        "])\n",
        "\n",
        "print(\"Saving slices into normal / abnormal folders...\")\n",
        "for case_folder in tqdm(cases):\n",
        "    try:\n",
        "        save_slices(case_folder, OUTPUT_DIR)\n",
        "    except FileNotFoundError as e:\n",
        "        print(f\"⚠️ Skipping {case_folder}: File not found - {e}\")\n",
        "    except Exception as e:\n",
        "        print(f\"❌ Error saving slices from {case_folder}: {e}\")\n",
        "\n",
        "print(\"✅ Done saving slices.\")\n",
        "\n"
      ]
    },
    {
      "cell_type": "code",
      "execution_count": null,
      "metadata": {
        "colab": {
          "base_uri": "https://localhost:8080/",
          "height": 36
        },
        "id": "AjyZ8TnWhka2",
        "outputId": "02f8b732-5a41-4469-fd66-fd7a59d325e2"
      },
      "outputs": [
        {
          "data": {
            "application/vnd.google.colaboratory.intrinsic+json": {
              "type": "string"
            },
            "text/plain": [
              "'/content/slices_output.zip'"
            ]
          },
          "execution_count": 12,
          "metadata": {},
          "output_type": "execute_result"
        }
      ],
      "source": [
        "import shutil\n",
        "\n",
        "# Replace 'slices_output' with your actual folder name if different\n",
        "shutil.make_archive('slices_output', 'zip', 'slices_output')\n"
      ]
    },
    {
      "cell_type": "code",
      "execution_count": null,
      "metadata": {
        "colab": {
          "base_uri": "https://localhost:8080/",
          "height": 34
        },
        "id": "LFy9vfQehmdG",
        "outputId": "70122d34-0764-4689-96cf-282aa6582628"
      },
      "outputs": [
        {
          "data": {
            "application/javascript": [
              "\n",
              "    async function download(id, filename, size) {\n",
              "      if (!google.colab.kernel.accessAllowed) {\n",
              "        return;\n",
              "      }\n",
              "      const div = document.createElement('div');\n",
              "      const label = document.createElement('label');\n",
              "      label.textContent = `Downloading \"${filename}\": `;\n",
              "      div.appendChild(label);\n",
              "      const progress = document.createElement('progress');\n",
              "      progress.max = size;\n",
              "      div.appendChild(progress);\n",
              "      document.body.appendChild(div);\n",
              "\n",
              "      const buffers = [];\n",
              "      let downloaded = 0;\n",
              "\n",
              "      const channel = await google.colab.kernel.comms.open(id);\n",
              "      // Send a message to notify the kernel that we're ready.\n",
              "      channel.send({})\n",
              "\n",
              "      for await (const message of channel.messages) {\n",
              "        // Send a message to notify the kernel that we're ready.\n",
              "        channel.send({})\n",
              "        if (message.buffers) {\n",
              "          for (const buffer of message.buffers) {\n",
              "            buffers.push(buffer);\n",
              "            downloaded += buffer.byteLength;\n",
              "            progress.value = downloaded;\n",
              "          }\n",
              "        }\n",
              "      }\n",
              "      const blob = new Blob(buffers, {type: 'application/binary'});\n",
              "      const a = document.createElement('a');\n",
              "      a.href = window.URL.createObjectURL(blob);\n",
              "      a.download = filename;\n",
              "      div.appendChild(a);\n",
              "      a.click();\n",
              "      div.remove();\n",
              "    }\n",
              "  "
            ],
            "text/plain": [
              "<IPython.core.display.Javascript object>"
            ]
          },
          "metadata": {},
          "output_type": "display_data"
        },
        {
          "data": {
            "application/javascript": [
              "download(\"download_47f943bd-97ca-48cf-894a-e62bdad3d20e\", \"slices_output.zip\", 9672362853)"
            ],
            "text/plain": [
              "<IPython.core.display.Javascript object>"
            ]
          },
          "metadata": {},
          "output_type": "display_data"
        }
      ],
      "source": [
        "from google.colab import files\n",
        "files.download('slices_output.zip')\n",
        "\n"
      ]
    },
    {
      "cell_type": "markdown",
      "metadata": {
        "id": "PZjMYCV9HAIN"
      },
      "source": [
        "#5. (אופציונלי) בדיקה כמה תמונות נשמרו בכל קטגוריה"
      ]
    },
    {
      "cell_type": "code",
      "execution_count": null,
      "metadata": {
        "colab": {
          "base_uri": "https://localhost:8080/"
        },
        "id": "lpu7cFAPHE4L",
        "outputId": "1c71bd09-ccf7-4798-b9e8-7902c29bd318"
      },
      "outputs": [
        {
          "name": "stdout",
          "output_type": "stream",
          "text": [
            "✅ Total slices saved:\n",
            "Normal: 93842\n",
            "Abnormal: 157069\n"
          ]
        }
      ],
      "source": [
        "normal_count = len(os.listdir(os.path.join(OUTPUT_DIR, \"normal\")))\n",
        "abnormal_count = len(os.listdir(os.path.join(OUTPUT_DIR, \"abnormal\")))\n",
        "\n",
        "print(f\"✅ Total slices saved:\")\n",
        "print(f\"Normal: {normal_count}\")\n",
        "print(f\"Abnormal: {abnormal_count}\")\n"
      ]
    },
    {
      "cell_type": "markdown",
      "metadata": {
        "id": "msK5hgTTHJbt"
      },
      "source": [
        "#6. דחיסת הקבצים ל-ZIP (כדי לשמור למחשב)"
      ]
    },
    {
      "cell_type": "code",
      "execution_count": null,
      "metadata": {
        "colab": {
          "base_uri": "https://localhost:8080/",
          "height": 36
        },
        "id": "O4sxCnJNHNW9",
        "outputId": "5a59aa99-6af3-4e4a-f136-2b16efdab402"
      },
      "outputs": [
        {
          "data": {
            "application/vnd.google.colaboratory.intrinsic+json": {
              "type": "string"
            },
            "text/plain": [
              "'/content/slices_output.zip'"
            ]
          },
          "execution_count": 15,
          "metadata": {},
          "output_type": "execute_result"
        }
      ],
      "source": [
        "import shutil\n",
        "\n",
        "shutil.make_archive(\"slices_output\", \"zip\", OUTPUT_DIR)\n"
      ]
    },
    {
      "cell_type": "markdown",
      "metadata": {
        "id": "xCV2VRIim5ED"
      },
      "source": [
        "#Set Up the Data Pipeline"
      ]
    },
    {
      "cell_type": "code",
      "execution_count": null,
      "metadata": {
        "colab": {
          "base_uri": "https://localhost:8080/"
        },
        "id": "zmZ1hQ4Nm4Ss",
        "outputId": "07bed0fe-8bb6-4946-ebd8-741d22bd8e2e"
      },
      "outputs": [
        {
          "name": "stdout",
          "output_type": "stream",
          "text": [
            "Found 200730 images belonging to 2 classes.\n",
            "Found 50181 images belonging to 2 classes.\n"
          ]
        }
      ],
      "source": [
        "from tensorflow.keras.preprocessing.image import ImageDataGenerator\n",
        "\n",
        "IMG_SIZE = (128, 128)  # or (256, 256) depending on your slice size\n",
        "BATCH_SIZE = 32\n",
        "\n",
        "datagen = ImageDataGenerator(\n",
        "    rescale=1./255,\n",
        "    validation_split=0.2\n",
        ")\n",
        "\n",
        "train_gen = datagen.flow_from_directory(\n",
        "    'slices_output',\n",
        "    target_size=IMG_SIZE,\n",
        "    batch_size=BATCH_SIZE,\n",
        "    class_mode='binary',\n",
        "    subset='training'\n",
        ")\n",
        "\n",
        "val_gen = datagen.flow_from_directory(\n",
        "    'slices_output',\n",
        "    target_size=IMG_SIZE,\n",
        "    batch_size=BATCH_SIZE,\n",
        "    class_mode='binary',\n",
        "    subset='validation'\n",
        ")\n"
      ]
    },
    {
      "cell_type": "markdown",
      "metadata": {
        "id": "-KIhku32m82e"
      },
      "source": [
        "#Define the CNN Model"
      ]
    },
    {
      "cell_type": "code",
      "execution_count": null,
      "metadata": {
        "colab": {
          "base_uri": "https://localhost:8080/",
          "height": 408
        },
        "id": "_nz2uWOKnAIO",
        "outputId": "b1deb955-5e4d-414d-e629-aae24626f96f"
      },
      "outputs": [
        {
          "data": {
            "text/html": [
              "<pre style=\"white-space:pre;overflow-x:auto;line-height:normal;font-family:Menlo,'DejaVu Sans Mono',consolas,'Courier New',monospace\"><span style=\"font-weight: bold\">Model: \"sequential\"</span>\n",
              "</pre>\n"
            ],
            "text/plain": [
              "\u001b[1mModel: \"sequential\"\u001b[0m\n"
            ]
          },
          "metadata": {},
          "output_type": "display_data"
        },
        {
          "data": {
            "text/html": [
              "<pre style=\"white-space:pre;overflow-x:auto;line-height:normal;font-family:Menlo,'DejaVu Sans Mono',consolas,'Courier New',monospace\">┏━━━━━━━━━━━━━━━━━━━━━━━━━━━━━━━━━┳━━━━━━━━━━━━━━━━━━━━━━━━┳━━━━━━━━━━━━━━━┓\n",
              "┃<span style=\"font-weight: bold\"> Layer (type)                    </span>┃<span style=\"font-weight: bold\"> Output Shape           </span>┃<span style=\"font-weight: bold\">       Param # </span>┃\n",
              "┡━━━━━━━━━━━━━━━━━━━━━━━━━━━━━━━━━╇━━━━━━━━━━━━━━━━━━━━━━━━╇━━━━━━━━━━━━━━━┩\n",
              "│ conv2d (<span style=\"color: #0087ff; text-decoration-color: #0087ff\">Conv2D</span>)                 │ (<span style=\"color: #00d7ff; text-decoration-color: #00d7ff\">None</span>, <span style=\"color: #00af00; text-decoration-color: #00af00\">126</span>, <span style=\"color: #00af00; text-decoration-color: #00af00\">126</span>, <span style=\"color: #00af00; text-decoration-color: #00af00\">32</span>)   │           <span style=\"color: #00af00; text-decoration-color: #00af00\">896</span> │\n",
              "├─────────────────────────────────┼────────────────────────┼───────────────┤\n",
              "│ max_pooling2d (<span style=\"color: #0087ff; text-decoration-color: #0087ff\">MaxPooling2D</span>)    │ (<span style=\"color: #00d7ff; text-decoration-color: #00d7ff\">None</span>, <span style=\"color: #00af00; text-decoration-color: #00af00\">63</span>, <span style=\"color: #00af00; text-decoration-color: #00af00\">63</span>, <span style=\"color: #00af00; text-decoration-color: #00af00\">32</span>)     │             <span style=\"color: #00af00; text-decoration-color: #00af00\">0</span> │\n",
              "├─────────────────────────────────┼────────────────────────┼───────────────┤\n",
              "│ conv2d_1 (<span style=\"color: #0087ff; text-decoration-color: #0087ff\">Conv2D</span>)               │ (<span style=\"color: #00d7ff; text-decoration-color: #00d7ff\">None</span>, <span style=\"color: #00af00; text-decoration-color: #00af00\">61</span>, <span style=\"color: #00af00; text-decoration-color: #00af00\">61</span>, <span style=\"color: #00af00; text-decoration-color: #00af00\">64</span>)     │        <span style=\"color: #00af00; text-decoration-color: #00af00\">18,496</span> │\n",
              "├─────────────────────────────────┼────────────────────────┼───────────────┤\n",
              "│ max_pooling2d_1 (<span style=\"color: #0087ff; text-decoration-color: #0087ff\">MaxPooling2D</span>)  │ (<span style=\"color: #00d7ff; text-decoration-color: #00d7ff\">None</span>, <span style=\"color: #00af00; text-decoration-color: #00af00\">30</span>, <span style=\"color: #00af00; text-decoration-color: #00af00\">30</span>, <span style=\"color: #00af00; text-decoration-color: #00af00\">64</span>)     │             <span style=\"color: #00af00; text-decoration-color: #00af00\">0</span> │\n",
              "├─────────────────────────────────┼────────────────────────┼───────────────┤\n",
              "│ conv2d_2 (<span style=\"color: #0087ff; text-decoration-color: #0087ff\">Conv2D</span>)               │ (<span style=\"color: #00d7ff; text-decoration-color: #00d7ff\">None</span>, <span style=\"color: #00af00; text-decoration-color: #00af00\">28</span>, <span style=\"color: #00af00; text-decoration-color: #00af00\">28</span>, <span style=\"color: #00af00; text-decoration-color: #00af00\">128</span>)    │        <span style=\"color: #00af00; text-decoration-color: #00af00\">73,856</span> │\n",
              "├─────────────────────────────────┼────────────────────────┼───────────────┤\n",
              "│ global_average_pooling2d        │ (<span style=\"color: #00d7ff; text-decoration-color: #00d7ff\">None</span>, <span style=\"color: #00af00; text-decoration-color: #00af00\">128</span>)            │             <span style=\"color: #00af00; text-decoration-color: #00af00\">0</span> │\n",
              "│ (<span style=\"color: #0087ff; text-decoration-color: #0087ff\">GlobalAveragePooling2D</span>)        │                        │               │\n",
              "├─────────────────────────────────┼────────────────────────┼───────────────┤\n",
              "│ dense (<span style=\"color: #0087ff; text-decoration-color: #0087ff\">Dense</span>)                   │ (<span style=\"color: #00d7ff; text-decoration-color: #00d7ff\">None</span>, <span style=\"color: #00af00; text-decoration-color: #00af00\">64</span>)             │         <span style=\"color: #00af00; text-decoration-color: #00af00\">8,256</span> │\n",
              "├─────────────────────────────────┼────────────────────────┼───────────────┤\n",
              "│ dense_1 (<span style=\"color: #0087ff; text-decoration-color: #0087ff\">Dense</span>)                 │ (<span style=\"color: #00d7ff; text-decoration-color: #00d7ff\">None</span>, <span style=\"color: #00af00; text-decoration-color: #00af00\">1</span>)              │            <span style=\"color: #00af00; text-decoration-color: #00af00\">65</span> │\n",
              "└─────────────────────────────────┴────────────────────────┴───────────────┘\n",
              "</pre>\n"
            ],
            "text/plain": [
              "┏━━━━━━━━━━━━━━━━━━━━━━━━━━━━━━━━━┳━━━━━━━━━━━━━━━━━━━━━━━━┳━━━━━━━━━━━━━━━┓\n",
              "┃\u001b[1m \u001b[0m\u001b[1mLayer (type)                   \u001b[0m\u001b[1m \u001b[0m┃\u001b[1m \u001b[0m\u001b[1mOutput Shape          \u001b[0m\u001b[1m \u001b[0m┃\u001b[1m \u001b[0m\u001b[1m      Param #\u001b[0m\u001b[1m \u001b[0m┃\n",
              "┡━━━━━━━━━━━━━━━━━━━━━━━━━━━━━━━━━╇━━━━━━━━━━━━━━━━━━━━━━━━╇━━━━━━━━━━━━━━━┩\n",
              "│ conv2d (\u001b[38;5;33mConv2D\u001b[0m)                 │ (\u001b[38;5;45mNone\u001b[0m, \u001b[38;5;34m126\u001b[0m, \u001b[38;5;34m126\u001b[0m, \u001b[38;5;34m32\u001b[0m)   │           \u001b[38;5;34m896\u001b[0m │\n",
              "├─────────────────────────────────┼────────────────────────┼───────────────┤\n",
              "│ max_pooling2d (\u001b[38;5;33mMaxPooling2D\u001b[0m)    │ (\u001b[38;5;45mNone\u001b[0m, \u001b[38;5;34m63\u001b[0m, \u001b[38;5;34m63\u001b[0m, \u001b[38;5;34m32\u001b[0m)     │             \u001b[38;5;34m0\u001b[0m │\n",
              "├─────────────────────────────────┼────────────────────────┼───────────────┤\n",
              "│ conv2d_1 (\u001b[38;5;33mConv2D\u001b[0m)               │ (\u001b[38;5;45mNone\u001b[0m, \u001b[38;5;34m61\u001b[0m, \u001b[38;5;34m61\u001b[0m, \u001b[38;5;34m64\u001b[0m)     │        \u001b[38;5;34m18,496\u001b[0m │\n",
              "├─────────────────────────────────┼────────────────────────┼───────────────┤\n",
              "│ max_pooling2d_1 (\u001b[38;5;33mMaxPooling2D\u001b[0m)  │ (\u001b[38;5;45mNone\u001b[0m, \u001b[38;5;34m30\u001b[0m, \u001b[38;5;34m30\u001b[0m, \u001b[38;5;34m64\u001b[0m)     │             \u001b[38;5;34m0\u001b[0m │\n",
              "├─────────────────────────────────┼────────────────────────┼───────────────┤\n",
              "│ conv2d_2 (\u001b[38;5;33mConv2D\u001b[0m)               │ (\u001b[38;5;45mNone\u001b[0m, \u001b[38;5;34m28\u001b[0m, \u001b[38;5;34m28\u001b[0m, \u001b[38;5;34m128\u001b[0m)    │        \u001b[38;5;34m73,856\u001b[0m │\n",
              "├─────────────────────────────────┼────────────────────────┼───────────────┤\n",
              "│ global_average_pooling2d        │ (\u001b[38;5;45mNone\u001b[0m, \u001b[38;5;34m128\u001b[0m)            │             \u001b[38;5;34m0\u001b[0m │\n",
              "│ (\u001b[38;5;33mGlobalAveragePooling2D\u001b[0m)        │                        │               │\n",
              "├─────────────────────────────────┼────────────────────────┼───────────────┤\n",
              "│ dense (\u001b[38;5;33mDense\u001b[0m)                   │ (\u001b[38;5;45mNone\u001b[0m, \u001b[38;5;34m64\u001b[0m)             │         \u001b[38;5;34m8,256\u001b[0m │\n",
              "├─────────────────────────────────┼────────────────────────┼───────────────┤\n",
              "│ dense_1 (\u001b[38;5;33mDense\u001b[0m)                 │ (\u001b[38;5;45mNone\u001b[0m, \u001b[38;5;34m1\u001b[0m)              │            \u001b[38;5;34m65\u001b[0m │\n",
              "└─────────────────────────────────┴────────────────────────┴───────────────┘\n"
            ]
          },
          "metadata": {},
          "output_type": "display_data"
        },
        {
          "data": {
            "text/html": [
              "<pre style=\"white-space:pre;overflow-x:auto;line-height:normal;font-family:Menlo,'DejaVu Sans Mono',consolas,'Courier New',monospace\"><span style=\"font-weight: bold\"> Total params: </span><span style=\"color: #00af00; text-decoration-color: #00af00\">101,569</span> (396.75 KB)\n",
              "</pre>\n"
            ],
            "text/plain": [
              "\u001b[1m Total params: \u001b[0m\u001b[38;5;34m101,569\u001b[0m (396.75 KB)\n"
            ]
          },
          "metadata": {},
          "output_type": "display_data"
        },
        {
          "data": {
            "text/html": [
              "<pre style=\"white-space:pre;overflow-x:auto;line-height:normal;font-family:Menlo,'DejaVu Sans Mono',consolas,'Courier New',monospace\"><span style=\"font-weight: bold\"> Trainable params: </span><span style=\"color: #00af00; text-decoration-color: #00af00\">101,569</span> (396.75 KB)\n",
              "</pre>\n"
            ],
            "text/plain": [
              "\u001b[1m Trainable params: \u001b[0m\u001b[38;5;34m101,569\u001b[0m (396.75 KB)\n"
            ]
          },
          "metadata": {},
          "output_type": "display_data"
        },
        {
          "data": {
            "text/html": [
              "<pre style=\"white-space:pre;overflow-x:auto;line-height:normal;font-family:Menlo,'DejaVu Sans Mono',consolas,'Courier New',monospace\"><span style=\"font-weight: bold\"> Non-trainable params: </span><span style=\"color: #00af00; text-decoration-color: #00af00\">0</span> (0.00 B)\n",
              "</pre>\n"
            ],
            "text/plain": [
              "\u001b[1m Non-trainable params: \u001b[0m\u001b[38;5;34m0\u001b[0m (0.00 B)\n"
            ]
          },
          "metadata": {},
          "output_type": "display_data"
        }
      ],
      "source": [
        "from tensorflow.keras import layers, models\n",
        "\n",
        "model = models.Sequential([\n",
        "    layers.Input(shape=(*IMG_SIZE, 3)),\n",
        "    layers.Conv2D(32, (3, 3), activation='relu'),\n",
        "    layers.MaxPooling2D(),\n",
        "    layers.Conv2D(64, (3, 3), activation='relu'),\n",
        "    layers.MaxPooling2D(),\n",
        "    layers.Conv2D(128, (3, 3), activation='relu'),\n",
        "    layers.GlobalAveragePooling2D(),\n",
        "    layers.Dense(64, activation='relu'),\n",
        "    layers.Dense(1, activation='sigmoid')  # binary classification\n",
        "])\n",
        "\n",
        "model.compile(optimizer='adam',\n",
        "              loss='binary_crossentropy',\n",
        "              metrics=['accuracy'])\n",
        "\n",
        "model.summary()\n"
      ]
    },
    {
      "cell_type": "markdown",
      "metadata": {
        "id": "6_ioMqXOnCuW"
      },
      "source": [
        "#. Train the Model"
      ]
    },
    {
      "cell_type": "code",
      "execution_count": null,
      "metadata": {
        "colab": {
          "background_save": true,
          "base_uri": "https://localhost:8080/"
        },
        "id": "7FHg590rnGHJ",
        "outputId": "e7856bba-d1d4-43b7-b5bb-ba9e33d61e8f"
      },
      "outputs": [
        {
          "name": "stderr",
          "output_type": "stream",
          "text": [
            "/usr/local/lib/python3.11/dist-packages/keras/src/trainers/data_adapters/py_dataset_adapter.py:121: UserWarning: Your `PyDataset` class should call `super().__init__(**kwargs)` in its constructor. `**kwargs` can include `workers`, `use_multiprocessing`, `max_queue_size`. Do not pass these arguments to `fit()`, as they will be ignored.\n",
            "  self._warn_if_super_not_called()\n"
          ]
        },
        {
          "name": "stdout",
          "output_type": "stream",
          "text": [
            "Epoch 1/10\n",
            "\u001b[1m6273/6273\u001b[0m \u001b[32m━━━━━━━━━━━━━━━━━━━━\u001b[0m\u001b[37m\u001b[0m \u001b[1m6646s\u001b[0m 1s/step - accuracy: 0.7512 - loss: 0.4520 - val_accuracy: 0.8625 - val_loss: 0.3145\n",
            "Epoch 2/10\n",
            "\u001b[1m6273/6273\u001b[0m \u001b[32m━━━━━━━━━━━━━━━━━━━━\u001b[0m\u001b[37m\u001b[0m \u001b[1m6458s\u001b[0m 1s/step - accuracy: 0.8757 - loss: 0.2852 - val_accuracy: 0.8808 - val_loss: 0.2782\n",
            "Epoch 3/10\n",
            "\u001b[1m1369/6273\u001b[0m \u001b[32m━━━━\u001b[0m\u001b[37m━━━━━━━━━━━━━━━━\u001b[0m \u001b[1m1:17:21\u001b[0m 947ms/step - accuracy: 0.8930 - loss: 0.2483"
          ]
        }
      ],
      "source": [
        "history = model.fit(\n",
        "    train_gen,\n",
        "    validation_data=val_gen,\n",
        "    epochs=10\n",
        ")\n"
      ]
    },
    {
      "cell_type": "code",
      "execution_count": null,
      "metadata": {
        "id": "5qSFfD_cay0o"
      },
      "outputs": [],
      "source": [
        "from google.colab import drive\n",
        "drive.mount('/content/drive')\n",
        "\n",
        "!cp slices_output.zip /content/drive/MyDrive/\n"
      ]
    },
    {
      "cell_type": "code",
      "execution_count": null,
      "metadata": {
        "id": "sDZ2WKoAnTYz"
      },
      "outputs": [],
      "source": [
        "# Get final accuracy and validation accuracy from training history\n",
        "train_acc = history.history['accuracy'][-1] * 100\n",
        "val_acc = history.history['val_accuracy'][-1] * 100\n",
        "\n",
        "print(f\"✅ Final Training Accuracy: {train_acc:.2f}%\")\n",
        "print(f\"✅ Final Validation Accuracy: {val_acc:.2f}%\")\n"
      ]
    },
    {
      "cell_type": "code",
      "execution_count": null,
      "metadata": {
        "id": "f861cRsPnW16"
      },
      "outputs": [],
      "source": [
        "import matplotlib.pyplot as plt\n",
        "\n",
        "plt.plot(history.history['accuracy'], label='Train Accuracy')\n",
        "plt.plot(history.history['val_accuracy'], label='Validation Accuracy')\n",
        "plt.title('Model Accuracy Over Epochs')\n",
        "plt.xlabel('Epoch')\n",
        "plt.ylabel('Accuracy')\n",
        "plt.legend()\n",
        "plt.grid(True)\n",
        "plt.show()\n"
      ]
    },
    {
      "cell_type": "code",
      "execution_count": null,
      "metadata": {
        "id": "r2veptlVnanV"
      },
      "outputs": [],
      "source": [
        "model.evaluate(val_gen)\n",
        "\n",
        "# Save the trained model\n",
        "model.save(\"normal_abnormal_classifier.h5\")\n"
      ]
    },
    {
      "cell_type": "markdown",
      "metadata": {
        "id": "bVO_0YmvuI1C"
      },
      "source": [
        "# Test the Model on a New Case"
      ]
    },
    {
      "cell_type": "code",
      "execution_count": null,
      "metadata": {
        "id": "KJGYKDZSuLbp"
      },
      "outputs": [],
      "source": [
        "import nibabel as nib\n",
        "import numpy as np\n",
        "from PIL import Image\n",
        "import os\n",
        "\n",
        "# Path to a test case\n",
        "test_case_folder = \"kits23/dataset/case_00500\"\n",
        "\n",
        "# Load the volume\n",
        "img_path = os.path.join(test_case_folder, \"imaging.nii.gz\")\n",
        "img = nib.load(img_path).get_fdata()\n",
        "\n",
        "# Choose a slice index to test (e.g., slice #50)\n",
        "i = 50\n",
        "slice_img = img[:, :, i]\n",
        "\n",
        "# Normalize to 0–255 and convert to PIL image\n",
        "slice_norm = 255 * (slice_img - np.min(slice_img)) / (np.ptp(slice_img) + 1e-5)\n",
        "slice_norm = slice_norm.astype(np.uint8)\n",
        "\n",
        "img_pil = Image.fromarray(slice_norm).resize((128, 128)).convert(\"RGB\")\n",
        "\n",
        "# Convert to array and scale 0–1\n",
        "img_arr = np.array(img_pil) / 255.0\n",
        "img_arr = np.expand_dims(img_arr, axis=0)  # Add batch dimension\n"
      ]
    },
    {
      "cell_type": "markdown",
      "metadata": {
        "id": "yvisXovruPub"
      },
      "source": [
        "#Predict Using the Model"
      ]
    },
    {
      "cell_type": "code",
      "execution_count": null,
      "metadata": {
        "id": "tM3TEvL1uQrA"
      },
      "outputs": [],
      "source": [
        "pred = model.predict(img_arr)[0][0]\n",
        "\n",
        "# Threshold at 0.5 to classify\n",
        "label = \"normal\" if pred >= 0.5 else \"abnormal\"\n",
        "confidence = pred if pred >= 0.5 else 1 - pred\n",
        "\n",
        "print(f\"🧠 Prediction: {label} ({confidence * 100:.2f}%)\")\n",
        "\n"
      ]
    }
  ],
  "metadata": {
    "accelerator": "GPU",
    "colab": {
      "gpuType": "T4",
      "provenance": [],
      "authorship_tag": "ABX9TyOa8Og1+P8iU5sLgoTFxCeD",
      "include_colab_link": true
    },
    "kernelspec": {
      "display_name": "Python 3",
      "name": "python3"
    },
    "language_info": {
      "name": "python"
    }
  },
  "nbformat": 4,
  "nbformat_minor": 0
}